{
 "cells": [
  {
   "cell_type": "code",
   "execution_count": 2,
   "metadata": {},
   "outputs": [
    {
     "name": "stdout",
     "output_type": "stream",
     "text": [
      "Masukkan berat badan anda : 67\n",
      "Masukkan tinggi badan anda : 1.7\n",
      "Anda ideal\n"
     ]
    }
   ],
   "source": [
    "bb = float(input(\"Masukkan berat badan anda : \"))\n",
    "tb = float(input(\"Masukkan tinggi badan anda : \"))\n",
    "bmi = bb / (tb**2)\n",
    "if bmi < 18.5:\n",
    "    print(\"Anda kurang berat badannya\")\n",
    "elif bmi >= 18.5 <= 24.9:\n",
    "    print(\"Anda ideal\")\n",
    "elif bmi >=25 <=29.9:\n",
    "    print(\"Anda lebih berat badannya\")\n",
    "else:\n",
    "    print(\"Anda obesitas\")"
   ]
  },
  {
   "cell_type": "code",
   "execution_count": null,
   "metadata": {},
   "outputs": [],
   "source": []
  }
 ],
 "metadata": {
  "kernelspec": {
   "display_name": "Python 3",
   "language": "python",
   "name": "python3"
  },
  "language_info": {
   "codemirror_mode": {
    "name": "ipython",
    "version": 3
   },
   "file_extension": ".py",
   "mimetype": "text/x-python",
   "name": "python",
   "nbconvert_exporter": "python",
   "pygments_lexer": "ipython3",
   "version": "3.7.3"
  }
 },
 "nbformat": 4,
 "nbformat_minor": 2
}
